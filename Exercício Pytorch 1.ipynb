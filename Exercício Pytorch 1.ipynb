{
 "cells": [
  {
   "cell_type": "markdown",
   "metadata": {},
   "source": [
    "Cristian Veggian Matias - 2150913\n",
    "\n",
    "João Pedro Moretto Lourenção - 2150980"
   ]
  },
  {
   "cell_type": "code",
   "execution_count": null,
   "metadata": {},
   "outputs": [],
   "source": [
    "pip install torch"
   ]
  },
  {
   "cell_type": "markdown",
   "metadata": {},
   "source": [
    "## Exercício 1\n",
    "\n",
    "Estude os detalhes de Pytorch. Garanta que você entendeu os conceitos básicos exemplificados."
   ]
  },
  {
   "cell_type": "markdown",
   "metadata": {},
   "source": [
    "O PyTorch é uma popular biblioteca de código aberto para aprendizado profundo e processamento de tensores. Ele oferece uma flexibilidade excepcional para criar e treinar modelos de redes neurais, sendo amplamente adotado pela comunidade de pesquisa e desenvolvimento em inteligência artificial. Com uma API dinâmica e suporte para GPUs, o PyTorch torna mais fácil experimentar com diferentes arquiteturas de rede e implementar algoritmos de aprendizado profundo de forma eficiente. Sua crescente base de usuários e suporte ativo tornam o PyTorch uma escolha sólida para projetos de aprendizado profundo em diversas aplicações, desde visão computacional até processamento de linguagem natural."
   ]
  },
  {
   "cell_type": "markdown",
   "metadata": {},
   "source": [
    "## Exercício 2"
   ]
  },
  {
   "cell_type": "markdown",
   "metadata": {},
   "source": [
    "Considere esses valores abaixo para os tensores x e y:"
   ]
  },
  {
   "cell_type": "code",
   "execution_count": null,
   "metadata": {},
   "outputs": [],
   "source": [
    "import torch\n",
    "torch.manual_seed(0)\n",
    "\n",
    "#Shape (10, 3)\n",
    "x = torch.randn(10, 3)\n",
    "print(x)\n",
    "\n",
    "#Shape(10, 2)\n",
    "y = torch.randn(10, 2)\n",
    "print(y)\n"
   ]
  },
  {
   "cell_type": "markdown",
   "metadata": {},
   "source": [
    "Modifique o \"Primeiro modelo\" exemplificado no notebook criando um loop para repetir 1000 vezes os passos chave que foram repetidos duas vezes no exemplo com duas repetições. Como ficou o resultado?"
   ]
  },
  {
   "cell_type": "code",
   "execution_count": null,
   "metadata": {},
   "outputs": [],
   "source": [
    "import torch\n",
    "import torch.nn as nn\n",
    "\n",
    "# isso aqui serve para verifiar os resultados\n",
    "torch.manual_seed(0)\n",
    "\n",
    "x = torch.randn(10, 3)\n",
    "y = torch.randn(10, 2)\n",
    "\n",
    "# nn == neural network\n",
    "linear = nn.Linear(3, 2)\n",
    "\n",
    "device = torch.device(\"cuda\" if torch.cuda.is_available() else \"cpu\")\n",
    "\n",
    "print(f'Usando {device}')\n",
    "\n",
    "linear = linear.to(device)\n",
    "x = x.to(device)\n",
    "y = y.to(device)\n",
    "\n",
    "criterion = nn.MSELoss()\n",
    "optimizer = torch.optim.Adam(linear.parameters(), lr=0.001)\n",
    "\n",
    "for epoch in range(1000):\n",
    "    pred = linear(x)\n",
    "    loss = criterion(pred, y)\n",
    "\n",
    "    optimizer.zero_grad()  \n",
    "    loss.backward()  # retropropagação\n",
    "    optimizer.step()  # atualização de parâmetros\n",
    "\n",
    "    if (epoch + 1) % 100 == 0:\n",
    "        print(f'Época [{epoch + 1}/1000], Perda: {loss.item():.4f}')\n",
    "\n",
    "print('Parâmetros finais do modelo:')\n",
    "print('Pesos (w):', linear.weight)\n",
    "print('Bias (b):', linear.bias)\n"
   ]
  }
 ],
 "metadata": {
  "kernelspec": {
   "display_name": "Python 3",
   "language": "python",
   "name": "python3"
  },
  "language_info": {
   "codemirror_mode": {
    "name": "ipython",
    "version": 3
   },
   "file_extension": ".py",
   "mimetype": "text/x-python",
   "name": "python",
   "nbconvert_exporter": "python",
   "pygments_lexer": "ipython3",
   "version": "3.10.12"
  }
 },
 "nbformat": 4,
 "nbformat_minor": 4
}
